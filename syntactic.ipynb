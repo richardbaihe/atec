{
 "cells": [
  {
   "cell_type": "code",
   "execution_count": 12,
   "metadata": {},
   "outputs": [],
   "source": [
    "from __future__ import print_function\n",
    "import os\n",
    "import tree_kernel\n",
    "from tree_kernel import Tree, parse, \\\n",
    "    TreeKernel, TreeKernel2, \\\n",
    "    TreeKernel3, TreeKernel4,load_parses\n",
    "import pandas as pd\n",
    "import numpy as np\n",
    "from sklearn.metrics import f1_score, precision_score, recall_score\n",
    "import matplotlib.pyplot as plt\n",
    "%matplotlib inline"
   ]
  },
  {
   "cell_type": "code",
   "execution_count": 13,
   "metadata": {},
   "outputs": [],
   "source": [
    "DATA = os.path.abspath('./data')\n",
    "parse_Ax = os.path.join(DATA, 'parse_Ax.txt')\n",
    "parse_Bx = os.path.join(DATA, 'parse_Bx.txt')\n",
    "parses_A, parses_B = load_parses(parse_Ax, parse_Bx)"
   ]
  },
  {
   "cell_type": "code",
   "execution_count": 14,
   "metadata": {},
   "outputs": [],
   "source": [
    "def progress_bar(percent, txt):\n",
    "    \"\"\"Prints the progress until the next report.\"\"\"\n",
    "    fill = int(percent * 40)\n",
    "    print(\"\\r[{}{}]: {:.4f} {:s}\".format(\n",
    "        \"=\" * fill, \" \" * (40 - fill), percent, txt), end='')"
   ]
  },
  {
   "cell_type": "code",
   "execution_count": 4,
   "metadata": {},
   "outputs": [
    {
     "name": "stdout",
     "output_type": "stream",
     "text": [
      "[======================================= ]: 1.0000 loading..."
     ]
    }
   ],
   "source": [
    "tk = TreeKernel(lam=10, nnodes=300)\n",
    "cos_lst = []\n",
    "for i, (parse_A, parse_B) in enumerate(zip(parses_A, parses_B)):\n",
    "        tree_A = Tree(lam = 1)\n",
    "        tree_B = Tree(lam = 1)\n",
    "        parse(parse_A, tree_A)\n",
    "        parse(parse_B, tree_B)\n",
    "        cos_val = tk.cos(tree_A, tree_B)\n",
    "        cos_lst.append(cos_val)\n",
    "        percent = (i+.0)/len(parses_A)\n",
    "        progress_bar(percent, 'loading...')"
   ]
  },
  {
   "cell_type": "code",
   "execution_count": 5,
   "metadata": {},
   "outputs": [
    {
     "data": {
      "text/html": [
       "<div>\n",
       "<style scoped>\n",
       "    .dataframe tbody tr th:only-of-type {\n",
       "        vertical-align: middle;\n",
       "    }\n",
       "\n",
       "    .dataframe tbody tr th {\n",
       "        vertical-align: top;\n",
       "    }\n",
       "\n",
       "    .dataframe thead th {\n",
       "        text-align: right;\n",
       "    }\n",
       "</style>\n",
       "<table border=\"1\" class=\"dataframe\">\n",
       "  <thead>\n",
       "    <tr style=\"text-align: right;\">\n",
       "      <th></th>\n",
       "      <th>label</th>\n",
       "      <th>cos</th>\n",
       "    </tr>\n",
       "  </thead>\n",
       "  <tbody>\n",
       "    <tr>\n",
       "      <th>0</th>\n",
       "      <td>1</td>\n",
       "      <td>0.986706</td>\n",
       "    </tr>\n",
       "    <tr>\n",
       "      <th>1</th>\n",
       "      <td>0</td>\n",
       "      <td>1.467799</td>\n",
       "    </tr>\n",
       "    <tr>\n",
       "      <th>2</th>\n",
       "      <td>0</td>\n",
       "      <td>1.240952</td>\n",
       "    </tr>\n",
       "    <tr>\n",
       "      <th>3</th>\n",
       "      <td>0</td>\n",
       "      <td>2.019125</td>\n",
       "    </tr>\n",
       "    <tr>\n",
       "      <th>4</th>\n",
       "      <td>0</td>\n",
       "      <td>0.237564</td>\n",
       "    </tr>\n",
       "    <tr>\n",
       "      <th>5</th>\n",
       "      <td>0</td>\n",
       "      <td>1.241755</td>\n",
       "    </tr>\n",
       "    <tr>\n",
       "      <th>6</th>\n",
       "      <td>0</td>\n",
       "      <td>2.159091</td>\n",
       "    </tr>\n",
       "    <tr>\n",
       "      <th>7</th>\n",
       "      <td>0</td>\n",
       "      <td>0.575650</td>\n",
       "    </tr>\n",
       "    <tr>\n",
       "      <th>8</th>\n",
       "      <td>0</td>\n",
       "      <td>1.132452</td>\n",
       "    </tr>\n",
       "    <tr>\n",
       "      <th>9</th>\n",
       "      <td>0</td>\n",
       "      <td>1.157278</td>\n",
       "    </tr>\n",
       "  </tbody>\n",
       "</table>\n",
       "</div>"
      ],
      "text/plain": [
       "   label       cos\n",
       "0      1  0.986706\n",
       "1      0  1.467799\n",
       "2      0  1.240952\n",
       "3      0  2.019125\n",
       "4      0  0.237564\n",
       "5      0  1.241755\n",
       "6      0  2.159091\n",
       "7      0  0.575650\n",
       "8      0  1.132452\n",
       "9      0  1.157278"
      ]
     },
     "execution_count": 5,
     "metadata": {},
     "output_type": "execute_result"
    }
   ],
   "source": [
    "data = pd.read_csv(os.path.join(DATA, 'label.txt'), \n",
    "            names=['label'], header=None)\n",
    "data['cos'] = cos_lst\n",
    "data.iloc[:10]"
   ]
  },
  {
   "cell_type": "code",
   "execution_count": 6,
   "metadata": {},
   "outputs": [],
   "source": [
    "valid_index = np.load(os.path.join(DATA, 'valid_index.npy'))\n",
    "train_index = list(set(valid_index)^set(data.index))\n",
    "train = data.iloc[train_index]\n",
    "valid = data.iloc[valid_index]"
   ]
  },
  {
   "cell_type": "code",
   "execution_count": 7,
   "metadata": {},
   "outputs": [
    {
     "name": "stderr",
     "output_type": "stream",
     "text": [
      "/Users/marc/.pyenv/versions/atec/lib/python2.7/site-packages/matplotlib/axes/_axes.py:6462: UserWarning: The 'normed' kwarg is deprecated, and has been replaced by the 'density' kwarg.\n",
      "  warnings.warn(\"The 'normed' kwarg is deprecated, and has been \"\n"
     ]
    },
    {
     "data": {
      "text/plain": [
       "Text(0.5,0,'cos')"
      ]
     },
     "execution_count": 7,
     "metadata": {},
     "output_type": "execute_result"
    },
    {
     "data": {
      "image/png": "[encoded data removed]",
      "text/plain": [
       "<Figure size 1080x360 with 1 Axes>"
      ]
     },
     "metadata": {},
     "output_type": "display_data"
    }
   ],
   "source": [
    "plt.figure(figsize=(15, 5))\n",
    "plt.hist((train['cos'])[train['label'] == 0], bins=100, normed=True, label='Not Paraphrase')\n",
    "plt.hist((train['cos'])[train['label'] == 1], bins=100, normed=True, alpha=0.7, label='Paraphrase')\n",
    "plt.legend()\n",
    "plt.title('Label distribution over cos', fontsize=15)\n",
    "plt.xlabel('cos', fontsize=15)"
   ]
  },
  {
   "cell_type": "code",
   "execution_count": 8,
   "metadata": {},
   "outputs": [],
   "source": [
    "n_np = (train[train['label'] == 0].count())['label']\n",
    "n_p = (train[train['label'] == 1].count())['label']"
   ]
  },
  {
   "cell_type": "code",
   "execution_count": 9,
   "metadata": {},
   "outputs": [
    {
     "data": {
      "text/plain": [
       "1.334828119538693"
      ]
     },
     "execution_count": 9,
     "metadata": {},
     "output_type": "execute_result"
    }
   ],
   "source": [
    "train[train['label'] == 0].sum()['cos']/n_np"
   ]
  },
  {
   "cell_type": "code",
   "execution_count": 10,
   "metadata": {},
   "outputs": [
    {
     "data": {
      "text/plain": [
       "1.4345915146570136"
      ]
     },
     "execution_count": 10,
     "metadata": {},
     "output_type": "execute_result"
    }
   ],
   "source": [
    "train[train['label'] == 1].sum()['cos']/n_p"
   ]
  },
  {
   "cell_type": "code",
   "execution_count": 11,
   "metadata": {},
   "outputs": [
    {
     "data": {
      "text/plain": [
       "<matplotlib.axes._subplots.AxesSubplot at 0x1e169bb10>"
      ]
     },
     "execution_count": 11,
     "metadata": {},
     "output_type": "execute_result"
    },
    {
     "data": {
      "image/png": "[encoded data removed]",
      "text/plain": [
       "<Figure size 432x288 with 1 Axes>"
      ]
     },
     "metadata": {},
     "output_type": "display_data"
    }
   ],
   "source": [
    "train[train['label'] == 1]['cos'].hist(bins = 100)"
   ]
  },
  {
   "cell_type": "code",
   "execution_count": 12,
   "metadata": {},
   "outputs": [
    {
     "data": {
      "text/plain": [
       "<matplotlib.axes._subplots.AxesSubplot at 0x1119f9d50>"
      ]
     },
     "execution_count": 12,
     "metadata": {},
     "output_type": "execute_result"
    },
    {
     "data": {
      "image/png": "[encoded data removed]",
      "text/plain": [
       "<Figure size 432x288 with 1 Axes>"
      ]
     },
     "metadata": {},
     "output_type": "display_data"
    }
   ],
   "source": [
    "train[train['label'] == 0]['cos'].hist(bins = 100)"
   ]
  },
  {
   "cell_type": "code",
   "execution_count": 13,
   "metadata": {},
   "outputs": [],
   "source": [
    "hist_p = np.histogram(train[train['label'] == 1]['cos'],\n",
    "                      bins=len(train), )\n",
    "bin_lst = hist_p[1]\n",
    "hist_np = np.histogram(train[train['label'] == 0]['cos'], \n",
    "                       bins=bin_lst, )"
   ]
  },
  {
   "cell_type": "code",
   "execution_count": 14,
   "metadata": {},
   "outputs": [],
   "source": [
    "def equals(x, y, e):\n",
    "    print(np.abs(x-y))\n",
    "    return np.abs(x-y) < e"
   ]
  },
  {
   "cell_type": "code",
   "execution_count": 15,
   "metadata": {},
   "outputs": [
    {
     "name": "stdout",
     "output_type": "stream",
     "text": [
      "2.87454565656986e-05 0.9855599003200559\n"
     ]
    }
   ],
   "source": [
    "sum_p = hist_p[0].sum() + .0\n",
    "sum_np = hist_np[0].sum() + .0\n",
    "prior_p = n_p/(n_p + n_np + .0)\n",
    "prior_np = n_np/(n_p + n_np + .0)\n",
    "deltas = []\n",
    "for i, bin_val in enumerate(bin_lst):\n",
    "    llh_np = hist_np[0][:i].sum()/sum_np # <\n",
    "    llh_p = hist_p[0][i:].sum()/sum_p # >=\n",
    "    post_np = llh_np * prior_np\n",
    "    post_p = llh_p * prior_p\n",
    "    delta = np.abs(post_np - post_p)\n",
    "    deltas.append(delta)\n",
    "\n",
    "idx_min = deltas.index(np.min(deltas))\n",
    "print(deltas[idx_min], bin_lst[idx_min])"
   ]
  },
  {
   "cell_type": "code",
   "execution_count": 16,
   "metadata": {},
   "outputs": [
    {
     "name": "stdout",
     "output_type": "stream",
     "text": [
      "0.368333023601561 0.23450070989115002 0.858008658008658\n"
     ]
    }
   ],
   "source": [
    "cos_sep = bin_lst[idx_min]\n",
    "pred = valid['cos']\n",
    "true = valid['label']\n",
    "pred = pred.apply(lambda x: 1 if x >= cos_sep else 0)\n",
    "print(f1_score(true, pred), \n",
    "      precision_score(true, pred), \n",
    "      recall_score(true, pred))"
   ]
  },
  {
   "cell_type": "code",
   "execution_count": 20,
   "metadata": {},
   "outputs": [],
   "source": [
    "def f1(kernel='TreeKernel2', lam=0.5):\n",
    "    tk = None\n",
    "    if kernel == 'TreeKernel':\n",
    "        tk = TreeKernel(lam=lam, nnodes=300) \n",
    "    elif kernel == 'TreeKernel2':\n",
    "        tk = TreeKernel2(lam=lam, nnodes=300)\n",
    "    elif kernel == 'TreeKernel3':\n",
    "        tk = TreeKernel3(lam=lam, nnodes=300)\n",
    "    else:\n",
    "        tk = TreeKernel4(lam=lam, nnodes=300)\n",
    "        \n",
    "    cos_lst = []\n",
    "    for i, (parse_A, parse_B) in enumerate(zip(parses_A, parses_B)):\n",
    "            tree_A = Tree(lam = 1)\n",
    "            tree_B = Tree(lam = 1)\n",
    "            parse(parse_A, tree_A)\n",
    "            parse(parse_B, tree_B)\n",
    "            cos_val = tk.cos(tree_A, tree_B)\n",
    "            cos_lst.append(cos_val)\n",
    "            percent = (i+.0)/len(parses_A)\n",
    "            progress_bar(percent, 'loading...')\n",
    "    \n",
    "    data = pd.read_csv(os.path.join(DATA, 'label.txt'), \n",
    "            names=['label'], header=None)\n",
    "    data['cos'] = cos_lst\n",
    "    \n",
    "    valid_index = np.load(os.path.join(DATA, 'valid_index.npy'))\n",
    "    train_index = list(set(valid_index)^set(data.index))\n",
    "    train = data.iloc[train_index]\n",
    "    valid = data.iloc[valid_index]\n",
    "    \n",
    "    n_np = (train[train['label'] == 0].count())['label']\n",
    "    n_p = (train[train['label'] == 1].count())['label']\n",
    "\n",
    "    hist_p = np.histogram(train[train['label'] == 1]['cos'],\n",
    "                      bins=len(train), )\n",
    "    bin_lst = hist_p[1]\n",
    "    hist_np = np.histogram(train[train['label'] == 0]['cos'], \n",
    "                           bins=bin_lst, )\n",
    "    \n",
    "    sum_p = hist_p[0].sum() + .0\n",
    "    sum_np = hist_np[0].sum() + .0\n",
    "    prior_p = n_p/(n_p + n_np + .0)\n",
    "    prior_np = n_np/(n_p + n_np + .0)\n",
    "    deltas = []\n",
    "    for i, bin_val in enumerate(bin_lst):\n",
    "        llh_np = hist_np[0][:i].sum()/sum_np # <\n",
    "        llh_p = hist_p[0][i:].sum()/sum_p # >=\n",
    "        post_np = llh_np * prior_np\n",
    "        post_p = llh_p * prior_p\n",
    "        delta = np.abs(post_np - post_p)\n",
    "        deltas.append(delta)\n",
    "\n",
    "    idx_min = deltas.index(np.min(deltas))\n",
    "    cos_sep = bin_lst[idx_min]\n",
    "    pred = valid['cos']\n",
    "    true = valid['label']\n",
    "    pred = pred.apply(lambda x: 1 if x >= cos_sep else 0)\n",
    "\n",
    "    print('Report: kernel %s lam %f f1 %f prec %f recall %f' %\n",
    "          (kernel,\n",
    "           lam,\n",
    "           f1_score(true, pred), \n",
    "           precision_score(true, pred), \n",
    "           recall_score(true, pred)))"
   ]
  },
  {
   "cell_type": "code",
   "execution_count": 21,
   "metadata": {
    "scrolled": false
   },
   "outputs": [
    {
     "name": "stdout",
     "output_type": "stream",
     "text": [
      "[======================================= ]: 1.0000 loading...Report: kernel TreeKernel2 lam 0.100000 f1 0.370370 prec 0.235894 recall 0.861472\n",
      "[======================================= ]: 1.0000 loading...Report: kernel TreeKernel2 lam 0.200000 f1 0.370233 prec 0.235782 recall 0.861472\n",
      "[======================================= ]: 1.0000 loading...Report: kernel TreeKernel2 lam 0.300000 f1 0.369689 prec 0.235406 recall 0.860606\n",
      "[=====                                   ]: 0.1384 loading..."
     ]
    },
    {
     "ename": "KeyboardInterrupt",
     "evalue": "",
     "output_type": "error",
     "traceback": [
      "\u001b[0;31m---------------------------------------------------------------------------\u001b[0m",
      "\u001b[0;31mKeyboardInterrupt\u001b[0m                         Traceback (most recent call last)",
      "\u001b[0;32m<ipython-input-21-f9d0b5b9fde2>\u001b[0m in \u001b[0;36m<module>\u001b[0;34m()\u001b[0m\n\u001b[1;32m      1\u001b[0m \u001b[0;32mfor\u001b[0m \u001b[0mi\u001b[0m \u001b[0;32min\u001b[0m \u001b[0mrange\u001b[0m\u001b[0;34m(\u001b[0m\u001b[0;36m1\u001b[0m\u001b[0;34m,\u001b[0m\u001b[0;36m10\u001b[0m\u001b[0;34m)\u001b[0m\u001b[0;34m:\u001b[0m\u001b[0;34m\u001b[0m\u001b[0m\n\u001b[1;32m      2\u001b[0m     \u001b[0mlam\u001b[0m \u001b[0;34m=\u001b[0m \u001b[0mi\u001b[0m \u001b[0;34m*\u001b[0m \u001b[0;36m0.1\u001b[0m\u001b[0;34m\u001b[0m\u001b[0m\n\u001b[0;32m----> 3\u001b[0;31m     \u001b[0mf1\u001b[0m\u001b[0;34m(\u001b[0m\u001b[0mkernel\u001b[0m\u001b[0;34m=\u001b[0m\u001b[0;34m'TreeKernel2'\u001b[0m\u001b[0;34m,\u001b[0m \u001b[0mlam\u001b[0m\u001b[0;34m=\u001b[0m\u001b[0mlam\u001b[0m\u001b[0;34m)\u001b[0m\u001b[0;34m\u001b[0m\u001b[0m\n\u001b[0m",
      "\u001b[0;32m<ipython-input-20-6ef89320afb7>\u001b[0m in \u001b[0;36mf1\u001b[0;34m(kernel, lam)\u001b[0m\n\u001b[1;32m     16\u001b[0m             \u001b[0mparse\u001b[0m\u001b[0;34m(\u001b[0m\u001b[0mparse_A\u001b[0m\u001b[0;34m,\u001b[0m \u001b[0mtree_A\u001b[0m\u001b[0;34m)\u001b[0m\u001b[0;34m\u001b[0m\u001b[0m\n\u001b[1;32m     17\u001b[0m             \u001b[0mparse\u001b[0m\u001b[0;34m(\u001b[0m\u001b[0mparse_B\u001b[0m\u001b[0;34m,\u001b[0m \u001b[0mtree_B\u001b[0m\u001b[0;34m)\u001b[0m\u001b[0;34m\u001b[0m\u001b[0m\n\u001b[0;32m---> 18\u001b[0;31m             \u001b[0mcos_val\u001b[0m \u001b[0;34m=\u001b[0m \u001b[0mtk\u001b[0m\u001b[0;34m.\u001b[0m\u001b[0mcos\u001b[0m\u001b[0;34m(\u001b[0m\u001b[0mtree_A\u001b[0m\u001b[0;34m,\u001b[0m \u001b[0mtree_B\u001b[0m\u001b[0;34m)\u001b[0m\u001b[0;34m\u001b[0m\u001b[0m\n\u001b[0m\u001b[1;32m     19\u001b[0m             \u001b[0mcos_lst\u001b[0m\u001b[0;34m.\u001b[0m\u001b[0mappend\u001b[0m\u001b[0;34m(\u001b[0m\u001b[0mcos_val\u001b[0m\u001b[0;34m)\u001b[0m\u001b[0;34m\u001b[0m\u001b[0m\n\u001b[1;32m     20\u001b[0m             \u001b[0mpercent\u001b[0m \u001b[0;34m=\u001b[0m \u001b[0;34m(\u001b[0m\u001b[0mi\u001b[0m\u001b[0;34m+\u001b[0m\u001b[0;36m.0\u001b[0m\u001b[0;34m)\u001b[0m\u001b[0;34m/\u001b[0m\u001b[0mlen\u001b[0m\u001b[0;34m(\u001b[0m\u001b[0mparses_A\u001b[0m\u001b[0;34m)\u001b[0m\u001b[0;34m\u001b[0m\u001b[0m\n",
      "\u001b[0;32m/Users/marc/Desktop/nlp/competition/atec/tree_kernel.py\u001b[0m in \u001b[0;36mcos\u001b[0;34m(self, x, y)\u001b[0m\n\u001b[1;32m    253\u001b[0m         \u001b[0;31m# x_norm = self._norm(x)\u001b[0m\u001b[0;34m\u001b[0m\u001b[0;34m\u001b[0m\u001b[0m\n\u001b[1;32m    254\u001b[0m         \u001b[0;31m# y_norm = self._norm(y)\u001b[0m\u001b[0;34m\u001b[0m\u001b[0;34m\u001b[0m\u001b[0m\n\u001b[0;32m--> 255\u001b[0;31m         \u001b[0mx_norm\u001b[0m \u001b[0;34m=\u001b[0m \u001b[0mnp\u001b[0m\u001b[0;34m.\u001b[0m\u001b[0msqrt\u001b[0m\u001b[0;34m(\u001b[0m\u001b[0mself\u001b[0m\u001b[0;34m.\u001b[0m\u001b[0meval\u001b[0m\u001b[0;34m(\u001b[0m\u001b[0mx\u001b[0m\u001b[0;34m,\u001b[0m \u001b[0mx\u001b[0m\u001b[0;34m)\u001b[0m\u001b[0;34m)\u001b[0m\u001b[0;34m\u001b[0m\u001b[0m\n\u001b[0m\u001b[1;32m    256\u001b[0m         \u001b[0my_norm\u001b[0m \u001b[0;34m=\u001b[0m \u001b[0mnp\u001b[0m\u001b[0;34m.\u001b[0m\u001b[0msqrt\u001b[0m\u001b[0;34m(\u001b[0m\u001b[0mself\u001b[0m\u001b[0;34m.\u001b[0m\u001b[0meval\u001b[0m\u001b[0;34m(\u001b[0m\u001b[0my\u001b[0m\u001b[0;34m,\u001b[0m \u001b[0my\u001b[0m\u001b[0;34m)\u001b[0m\u001b[0;34m)\u001b[0m\u001b[0;34m\u001b[0m\u001b[0m\n\u001b[1;32m    257\u001b[0m         \u001b[0;32mreturn\u001b[0m \u001b[0mxy\u001b[0m\u001b[0;34m/\u001b[0m\u001b[0;34m(\u001b[0m\u001b[0mx_norm\u001b[0m \u001b[0;34m*\u001b[0m \u001b[0my_norm\u001b[0m\u001b[0;34m)\u001b[0m\u001b[0;34m\u001b[0m\u001b[0m\n",
      "\u001b[0;32m/Users/marc/Desktop/nlp/competition/atec/tree_kernel.py\u001b[0m in \u001b[0;36meval\u001b[0;34m(self, x, y)\u001b[0m\n\u001b[1;32m    273\u001b[0m         \u001b[0;32mfor\u001b[0m \u001b[0mi\u001b[0m \u001b[0;32min\u001b[0m \u001b[0mrange\u001b[0m\u001b[0;34m(\u001b[0m\u001b[0mN1\u001b[0m\u001b[0;34m)\u001b[0m\u001b[0;34m:\u001b[0m\u001b[0;34m\u001b[0m\u001b[0m\n\u001b[1;32m    274\u001b[0m             \u001b[0;32mfor\u001b[0m \u001b[0mj\u001b[0m \u001b[0;32min\u001b[0m \u001b[0mrange\u001b[0m\u001b[0;34m(\u001b[0m\u001b[0mN2\u001b[0m\u001b[0;34m)\u001b[0m\u001b[0;34m:\u001b[0m\u001b[0;34m\u001b[0m\u001b[0m\n\u001b[0;32m--> 275\u001b[0;31m                 \u001b[0mres\u001b[0m \u001b[0;34m+=\u001b[0m \u001b[0mself\u001b[0m\u001b[0;34m.\u001b[0m\u001b[0m_compute\u001b[0m\u001b[0;34m(\u001b[0m\u001b[0mi\u001b[0m\u001b[0;34m,\u001b[0m \u001b[0mj\u001b[0m\u001b[0;34m,\u001b[0m \u001b[0mnodes1\u001b[0m\u001b[0;34m,\u001b[0m \u001b[0mnodes2\u001b[0m\u001b[0;34m)\u001b[0m\u001b[0;34m\u001b[0m\u001b[0m\n\u001b[0m\u001b[1;32m    276\u001b[0m \u001b[0;34m\u001b[0m\u001b[0m\n\u001b[1;32m    277\u001b[0m         \u001b[0;32mreturn\u001b[0m \u001b[0mres\u001b[0m\u001b[0;34m\u001b[0m\u001b[0m\n",
      "\u001b[0;32m/Users/marc/Desktop/nlp/competition/atec/tree_kernel.py\u001b[0m in \u001b[0;36m_compute\u001b[0;34m(self, i, j, nodes1, nodes2)\u001b[0m\n\u001b[1;32m    216\u001b[0m     \u001b[0;32mdef\u001b[0m \u001b[0m_compute\u001b[0m\u001b[0;34m(\u001b[0m\u001b[0mself\u001b[0m\u001b[0;34m,\u001b[0m \u001b[0mi\u001b[0m\u001b[0;34m,\u001b[0m \u001b[0mj\u001b[0m\u001b[0;34m,\u001b[0m \u001b[0mnodes1\u001b[0m\u001b[0;34m,\u001b[0m \u001b[0mnodes2\u001b[0m\u001b[0;34m)\u001b[0m\u001b[0;34m:\u001b[0m\u001b[0;34m\u001b[0m\u001b[0m\n\u001b[1;32m    217\u001b[0m \u001b[0;34m\u001b[0m\u001b[0m\n\u001b[0;32m--> 218\u001b[0;31m         \u001b[0;32mif\u001b[0m \u001b[0mself\u001b[0m\u001b[0;34m.\u001b[0m\u001b[0mmem\u001b[0m\u001b[0;34m[\u001b[0m\u001b[0mi\u001b[0m\u001b[0;34m,\u001b[0m \u001b[0mj\u001b[0m\u001b[0;34m]\u001b[0m \u001b[0;34m>=\u001b[0m \u001b[0;36m0\u001b[0m\u001b[0;34m:\u001b[0m\u001b[0;34m\u001b[0m\u001b[0m\n\u001b[0m\u001b[1;32m    219\u001b[0m             \u001b[0;32mreturn\u001b[0m \u001b[0mself\u001b[0m\u001b[0;34m.\u001b[0m\u001b[0mmem\u001b[0m\u001b[0;34m[\u001b[0m\u001b[0mi\u001b[0m\u001b[0;34m,\u001b[0m \u001b[0mj\u001b[0m\u001b[0;34m]\u001b[0m\u001b[0;34m\u001b[0m\u001b[0m\n\u001b[1;32m    220\u001b[0m \u001b[0;34m\u001b[0m\u001b[0m\n",
      "\u001b[0;31mKeyboardInterrupt\u001b[0m: "
     ]
    }
   ],
   "source": [
    "for i in range(1,10):\n",
    "    lam = i * 0.1\n",
    "    f1(kernel='TreeKernel2', lam=lam)"
   ]
  },
  {
   "cell_type": "code",
   "execution_count": null,
   "metadata": {},
   "outputs": [],
   "source": []
  }
 ],
 "metadata": {
  "kernelspec": {
   "display_name": "Python 2",
   "language": "python",
   "name": "python2"
  },
  "language_info": {
   "codemirror_mode": {
    "name": "ipython",
    "version": 2
   },
   "file_extension": ".py",
   "mimetype": "text/x-python",
   "name": "python",
   "nbconvert_exporter": "python",
   "pygments_lexer": "ipython2",
   "version": "2.7.15"
  }
 },
 "nbformat": 4,
 "nbformat_minor": 2
}
